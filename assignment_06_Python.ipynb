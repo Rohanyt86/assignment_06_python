{
 "cells": [
  {
   "cell_type": "markdown",
   "id": "f8f3dfc2",
   "metadata": {},
   "source": [
    "#### Q1. write a program to accept percentage from the user and display the grade according to the following criteria"
   ]
  },
  {
   "cell_type": "code",
   "execution_count": 2,
   "id": "6a99005d",
   "metadata": {},
   "outputs": [
    {
     "name": "stdout",
     "output_type": "stream",
     "text": [
      "enter your marks:- 85\n",
      "You get 85 marks so you grade will be B\n"
     ]
    }
   ],
   "source": [
    "def henry():\n",
    "    n = int(input(\"enter your marks:- \"))\n",
    "    if n >90 :\n",
    "        print(\"You get {} marks so your grade will be A\".format(n))\n",
    "    elif n > 80 and n <=90:\n",
    "        print(\"You get {} marks so you grade will be B\".format(n))\n",
    "    elif n >= 60 and n<=80:\n",
    "        print(\"You get {} marks so your grade will be C\". format(n))\n",
    "    else:\n",
    "        print(\"You get {} marks so your grade will be D\". format(n))\n",
    "henry()\n",
    "    "
   ]
  },
  {
   "cell_type": "markdown",
   "id": "d0800538",
   "metadata": {},
   "source": [
    "#### Q2. Write a programm to accept the cost price of the bike and display the road tax to be paid according to the following criteria."
   ]
  },
  {
   "cell_type": "code",
   "execution_count": 7,
   "id": "3dd153f9",
   "metadata": {},
   "outputs": [
    {
     "name": "stdout",
     "output_type": "stream",
     "text": [
      "enter your cost price:- 45000\n",
      "The cost price is Rs 45000 so you have to pay tax to government is Rs 2250.0\n"
     ]
    }
   ],
   "source": [
    "def tax_pay():\n",
    "    \n",
    "    amount = int(input(\"enter your cost price:- \"))\n",
    "    \n",
    "    if amount > 100000:\n",
    "        n = amount *0.15\n",
    "        print(\"The cost price is Rs {0} so you have to pay tax to government is Rs {1}\".format(amount,n))\n",
    "    elif amount >50000 and amount <= 100000:\n",
    "        n = amount * 0.10\n",
    "        print(\"The cost price is Rs {0} so you have to pay tax to government is Rs {1}\".format(amount,n))\n",
    "    else:\n",
    "        n = amount * 0.05\n",
    "        print(\"The cost price is Rs {0} so you have to pay tax to government is Rs {1}\".format(amount,n))\n",
    "        \n",
    "tax_pay()"
   ]
  },
  {
   "cell_type": "markdown",
   "id": "984564d3",
   "metadata": {},
   "source": [
    "#### Q3.Accept any city from the user and write the monument of that city."
   ]
  },
  {
   "cell_type": "code",
   "execution_count": 16,
   "id": "86cfe86c",
   "metadata": {},
   "outputs": [
    {
     "name": "stdout",
     "output_type": "stream",
     "text": [
      "Cities like Delhi, Agra, and Jaipur\n",
      "Enter the city name from the above list to get its monument: Jaipur\n",
      "Jal Mahal is the monument of Jaipur\n"
     ]
    }
   ],
   "source": [
    "def city():\n",
    "    l = {\"Delhi\": \"Red Fort\", \"Agra\": \"Taj Mahal\", \"Jaipur\": \"Jal Mahal\"}\n",
    "    print(\"Cities like Delhi, Agra, and Jaipur\")\n",
    "    n = input(\"Enter the city name from the above list to get its monument: \")\n",
    "    \n",
    "    if n in l:\n",
    "        monument = l[n]\n",
    "        print(\"{0} is the monument of {1}\".format(monument, n))\n",
    "    else:\n",
    "        print(\"City not found in the list.\")\n",
    "\n",
    "city()\n"
   ]
  },
  {
   "cell_type": "markdown",
   "id": "7d548e5c",
   "metadata": {},
   "source": [
    "#### Q4. Check how many times a given number can be divided by 3 before it is less than or equal to 10."
   ]
  },
  {
   "cell_type": "code",
   "execution_count": 2,
   "id": "3e0af105",
   "metadata": {},
   "outputs": [
    {
     "name": "stdout",
     "output_type": "stream",
     "text": [
      "enter the number:- 81\n",
      "The given number can be divided by 3 and 2 times before it is less than or equal to 10.\n"
     ]
    }
   ],
   "source": [
    "n = int(input(\"enter the number:- \"))\n",
    "\n",
    "count = 0\n",
    "while n > 10:\n",
    "        n /= 3\n",
    "        count += 1\n",
    "\n",
    "print(f\"The given number can be divided by 3 and {count} times before it is less than or equal to 10.\")"
   ]
  },
  {
   "cell_type": "markdown",
   "id": "a69bc948",
   "metadata": {},
   "source": [
    "#### Q5. When and why we used while loop in python give detailed description with example."
   ]
  },
  {
   "cell_type": "code",
   "execution_count": null,
   "id": "9e0c7ffe",
   "metadata": {},
   "outputs": [],
   "source": [
    "We used repeatedly excecute a block of code as long as specific condition is True."
   ]
  },
  {
   "cell_type": "code",
   "execution_count": 4,
   "id": "cd282d33",
   "metadata": {},
   "outputs": [
    {
     "name": "stdout",
     "output_type": "stream",
     "text": [
      "enter the number:- 10\n",
      "10 X 0 = 0\n",
      "10 X 1 = 10\n",
      "10 X 2 = 20\n",
      "10 X 3 = 30\n",
      "10 X 4 = 40\n",
      "10 X 5 = 50\n",
      "10 X 6 = 60\n",
      "10 X 7 = 70\n",
      "10 X 8 = 80\n",
      "10 X 9 = 90\n",
      "10 X 10 = 100\n"
     ]
    }
   ],
   "source": [
    "n = int(input(\"enter the number:- \"))\n",
    "i= 0\n",
    "\n",
    "while i < 11:\n",
    "        num = n*i\n",
    "        print(\"{0} X {1} = {2}\".format(n,i,num))\n",
    "        i = i+1"
   ]
  },
  {
   "cell_type": "markdown",
   "id": "be8a541a",
   "metadata": {},
   "source": [
    "#### Q6. Use nested while loop to print 3 different pattern."
   ]
  },
  {
   "cell_type": "code",
   "execution_count": 5,
   "id": "68ff8efb",
   "metadata": {},
   "outputs": [
    {
     "name": "stdout",
     "output_type": "stream",
     "text": [
      "\n",
      "* \n",
      "* * \n",
      "* * * \n"
     ]
    }
   ],
   "source": [
    "i = 0\n",
    "\n",
    "while i < 4:\n",
    "    j= 0\n",
    "    while j < i:\n",
    "        print(\"*\", end = \" \")\n",
    "        j +=1\n",
    "    print()\n",
    "    i +=1"
   ]
  },
  {
   "cell_type": "markdown",
   "id": "2fc4bdd3",
   "metadata": {},
   "source": [
    "#### Q7. reverse the while loop to display number from 10 to 1"
   ]
  },
  {
   "cell_type": "code",
   "execution_count": 6,
   "id": "3dbbfc73",
   "metadata": {},
   "outputs": [
    {
     "name": "stdout",
     "output_type": "stream",
     "text": [
      "10\n",
      "9\n",
      "8\n",
      "7\n",
      "6\n",
      "5\n",
      "4\n",
      "3\n",
      "2\n",
      "1\n"
     ]
    }
   ],
   "source": [
    "i = 10\n",
    "\n",
    "while i >0:\n",
    "    print(i)\n",
    "    i -= 1"
   ]
  },
  {
   "cell_type": "markdown",
   "id": "f9ddd807",
   "metadata": {},
   "source": [
    "#### Q8. Reverse a for loop to display number from 10 to 1"
   ]
  },
  {
   "cell_type": "code",
   "execution_count": 7,
   "id": "4e34a94f",
   "metadata": {},
   "outputs": [
    {
     "name": "stdout",
     "output_type": "stream",
     "text": [
      "10\n",
      "9\n",
      "8\n",
      "7\n",
      "6\n",
      "5\n",
      "4\n",
      "3\n",
      "2\n",
      "1\n"
     ]
    }
   ],
   "source": [
    "for i in range(10,0,-1):\n",
    "     print(i)"
   ]
  },
  {
   "cell_type": "code",
   "execution_count": null,
   "id": "4d9cc504",
   "metadata": {},
   "outputs": [],
   "source": []
  }
 ],
 "metadata": {
  "kernelspec": {
   "display_name": "Python 3 (ipykernel)",
   "language": "python",
   "name": "python3"
  },
  "language_info": {
   "codemirror_mode": {
    "name": "ipython",
    "version": 3
   },
   "file_extension": ".py",
   "mimetype": "text/x-python",
   "name": "python",
   "nbconvert_exporter": "python",
   "pygments_lexer": "ipython3",
   "version": "3.9.13"
  }
 },
 "nbformat": 4,
 "nbformat_minor": 5
}
